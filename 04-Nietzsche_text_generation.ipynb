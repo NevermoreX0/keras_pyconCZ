{
  "nbformat": 4,
  "nbformat_minor": 0,
  "metadata": {
    "colab": {
      "name": "04-Nietzsche_text_generation.ipynb",
      "version": "0.3.2",
      "views": {},
      "default_view": {},
      "provenance": [],
      "collapsed_sections": []
    },
    "kernelspec": {
      "name": "python3",
      "display_name": "Python 3"
    },
    "accelerator": "GPU"
  },
  "cells": [
    {
      "metadata": {
        "id": "RX8-d2WTZ7rc",
        "colab_type": "code",
        "colab": {
          "autoexec": {
            "startup": false,
            "wait_interval": 0
          },
          "base_uri": "https://localhost:8080/",
          "height": 34
        },
        "outputId": "6bb9cdff-c4f4-425d-ff6d-c54f6f480e95",
        "executionInfo": {
          "status": "ok",
          "timestamp": 1527951454410,
          "user_tz": 420,
          "elapsed": 4940,
          "user": {
            "displayName": "Petr Simecek",
            "photoUrl": "//lh5.googleusercontent.com/-r1Qt6_Cbwro/AAAAAAAAAAI/AAAAAAAAFuY/MOrxngMHaR4/s50-c-k-no/photo.jpg",
            "userId": "110837892421237702285"
          }
        }
      },
      "cell_type": "code",
      "source": [
        "import keras\n",
        "import numpy as np\n",
        "import re, collections            # for text processing\n",
        "from google.colab import files    # for download files"
      ],
      "execution_count": 1,
      "outputs": [
        {
          "output_type": "stream",
          "text": [
            "Using TensorFlow backend.\n"
          ],
          "name": "stderr"
        }
      ]
    },
    {
      "metadata": {
        "id": "Tzfhr5p1aFWD",
        "colab_type": "code",
        "colab": {
          "autoexec": {
            "startup": false,
            "wait_interval": 0
          },
          "base_uri": "https://localhost:8080/",
          "height": 34
        },
        "outputId": "ff8bf614-19ef-4481-c97f-d30589846e0f",
        "executionInfo": {
          "status": "ok",
          "timestamp": 1527951457619,
          "user_tz": 420,
          "elapsed": 461,
          "user": {
            "displayName": "Petr Simecek",
            "photoUrl": "//lh5.googleusercontent.com/-r1Qt6_Cbwro/AAAAAAAAAAI/AAAAAAAAFuY/MOrxngMHaR4/s50-c-k-no/photo.jpg",
            "userId": "110837892421237702285"
          }
        }
      },
      "cell_type": "code",
      "source": [
        "path = keras.utils.data_utils.get_file('nietzsche.txt', origin='https://s3.amazonaws.com/text-datasets/nietzsche.txt')\n",
        "with open(path, encoding='utf-8') as f:\n",
        "    text = f.read()\n",
        "print('corpus length:', len(text))\n"
      ],
      "execution_count": 2,
      "outputs": [
        {
          "output_type": "stream",
          "text": [
            "corpus length: 600893\n"
          ],
          "name": "stdout"
        }
      ]
    },
    {
      "metadata": {
        "id": "fbvOJk0JauHR",
        "colab_type": "code",
        "colab": {
          "autoexec": {
            "startup": false,
            "wait_interval": 0
          },
          "base_uri": "https://localhost:8080/",
          "height": 646
        },
        "outputId": "f7fbfc9d-66e6-4445-cd07-c6ddf673d05f",
        "executionInfo": {
          "status": "ok",
          "timestamp": 1527951461446,
          "user_tz": 420,
          "elapsed": 562,
          "user": {
            "displayName": "Petr Simecek",
            "photoUrl": "//lh5.googleusercontent.com/-r1Qt6_Cbwro/AAAAAAAAAAI/AAAAAAAAFuY/MOrxngMHaR4/s50-c-k-no/photo.jpg",
            "userId": "110837892421237702285"
          }
        }
      },
      "cell_type": "code",
      "source": [
        "text = text.lower().replace(\"\\n\", \" \")\n",
        "text = re.sub('[ëæéä0-9_\\[\\]=\\(\\)]', '', text)\n",
        "\n",
        "chars = sorted(list(set(text)))\n",
        "num_chars = len(chars)\n",
        "print('total characters in vocabulary:', num_chars)\n",
        "\n",
        "charcounts = collections.Counter(list(text))\n",
        "sorted(charcounts.items(), key=lambda i: i[1])"
      ],
      "execution_count": 3,
      "outputs": [
        {
          "output_type": "stream",
          "text": [
            "total characters in vocabulary: 36\n"
          ],
          "name": "stdout"
        },
        {
          "output_type": "execute_result",
          "data": {
            "text/plain": [
              "[('z', 261),\n",
              " (\"'\", 271),\n",
              " ('?', 400),\n",
              " ('!', 409),\n",
              " ('q', 547),\n",
              " ('j', 557),\n",
              " (';', 627),\n",
              " (':', 667),\n",
              " ('x', 888),\n",
              " ('\"', 1990),\n",
              " ('k', 2147),\n",
              " ('.', 2787),\n",
              " ('-', 3740),\n",
              " ('v', 5273),\n",
              " ('b', 5944),\n",
              " (',', 8201),\n",
              " ('w', 8329),\n",
              " ('y', 8497),\n",
              " ('g', 8843),\n",
              " ('p', 9484),\n",
              " ('m', 11829),\n",
              " ('f', 12222),\n",
              " ('u', 13221),\n",
              " ('c', 13655),\n",
              " ('d', 16943),\n",
              " ('l', 20336),\n",
              " ('h', 26940),\n",
              " ('r', 27224),\n",
              " ('s', 34500),\n",
              " ('n', 35598),\n",
              " ('o', 36591),\n",
              " ('a', 36796),\n",
              " ('i', 37548),\n",
              " ('t', 44450),\n",
              " ('e', 59595),\n",
              " (' ', 101142)]"
            ]
          },
          "metadata": {
            "tags": []
          },
          "execution_count": 3
        }
      ]
    },
    {
      "metadata": {
        "id": "su1RvGsRbLxc",
        "colab_type": "code",
        "colab": {
          "autoexec": {
            "startup": false,
            "wait_interval": 0
          }
        }
      },
      "cell_type": "code",
      "source": [
        "SEQ_LENGTH = 40\n",
        "STEP = 10\n",
        "DEPTH = 1\n",
        "UNIT_SIZE = 128\n",
        "DROPOUT = 0.1"
      ],
      "execution_count": 0,
      "outputs": []
    },
    {
      "metadata": {
        "id": "OBXopIx-nwU8",
        "colab_type": "code",
        "colab": {
          "autoexec": {
            "startup": false,
            "wait_interval": 0
          },
          "base_uri": "https://localhost:8080/",
          "height": 34
        },
        "outputId": "37902cba-9aff-4b2f-e4be-bbb3cd89bb9f",
        "executionInfo": {
          "status": "ok",
          "timestamp": 1527951468934,
          "user_tz": 420,
          "elapsed": 470,
          "user": {
            "displayName": "Petr Simecek",
            "photoUrl": "//lh5.googleusercontent.com/-r1Qt6_Cbwro/AAAAAAAAAAI/AAAAAAAAFuY/MOrxngMHaR4/s50-c-k-no/photo.jpg",
            "userId": "110837892421237702285"
          }
        }
      },
      "cell_type": "code",
      "source": [
        "sentences = list()\n",
        "targets = list()\n",
        "for i in range(0, len(text) - SEQ_LENGTH - 1, STEP):\n",
        "    sentences.append(text[i: i + SEQ_LENGTH])\n",
        "    targets.append(text[i + 1: i + SEQ_LENGTH + 1])\n",
        "print('number of sequences:', len(sentences))"
      ],
      "execution_count": 5,
      "outputs": [
        {
          "output_type": "stream",
          "text": [
            "number of sequences: 59842\n"
          ],
          "name": "stdout"
        }
      ]
    },
    {
      "metadata": {
        "id": "aYavT4Lko2t-",
        "colab_type": "code",
        "colab": {
          "autoexec": {
            "startup": false,
            "wait_interval": 0
          }
        }
      },
      "cell_type": "code",
      "source": [
        "# dictionaries to convert characters to numbers and vice-versa\n",
        "char_to_indices = dict((c, i) for i, c in enumerate(chars))\n",
        "indices_to_char = dict((i, c) for i, c in enumerate(chars))\n",
        "\n",
        "X = np.zeros((len(sentences), SEQ_LENGTH, num_chars), dtype=np.bool)\n",
        "y = np.zeros((len(sentences), SEQ_LENGTH, num_chars), dtype=np.bool)\n",
        "for i in range(len(sentences)):\n",
        "    sentence = sentences[i]\n",
        "    target = targets[i]\n",
        "    for j in range(SEQ_LENGTH):\n",
        "        X[i][j][char_to_indices[sentence[j]]] = 1\n",
        "        y[i][j][char_to_indices[target[j]]] = 1"
      ],
      "execution_count": 0,
      "outputs": []
    },
    {
      "metadata": {
        "id": "XOHedg-vboEs",
        "colab_type": "code",
        "colab": {
          "autoexec": {
            "startup": false,
            "wait_interval": 0
          },
          "base_uri": "https://localhost:8080/",
          "height": 34
        },
        "outputId": "c1296892-b8b2-4524-b226-09e71d994635",
        "executionInfo": {
          "status": "ok",
          "timestamp": 1527952860171,
          "user_tz": 420,
          "elapsed": 788,
          "user": {
            "displayName": "Petr Simecek",
            "photoUrl": "//lh5.googleusercontent.com/-r1Qt6_Cbwro/AAAAAAAAAAI/AAAAAAAAFuY/MOrxngMHaR4/s50-c-k-no/photo.jpg",
            "userId": "110837892421237702285"
          }
        }
      },
      "cell_type": "code",
      "source": [
        "print('Build model...')\n",
        "model = keras.models.Sequential()\n",
        "for _ in range(DEPTH):\n",
        "    model.add(keras.layers.LSTM(UNIT_SIZE, input_shape=(None, num_chars), return_sequences=True))\n",
        "    model.add(keras.layers.Dropout(DROPOUT))\n",
        "model.add(keras.layers.wrappers.TimeDistributed(keras.layers.Dense(num_chars)))\n",
        "model.add(keras.layers.Activation('softmax'))"
      ],
      "execution_count": 30,
      "outputs": [
        {
          "output_type": "stream",
          "text": [
            "Build model...\n"
          ],
          "name": "stdout"
        }
      ]
    },
    {
      "metadata": {
        "id": "lTXKpmFLdpG7",
        "colab_type": "code",
        "colab": {
          "autoexec": {
            "startup": false,
            "wait_interval": 0
          }
        }
      },
      "cell_type": "code",
      "source": [
        "optimizer = keras.optimizers.RMSprop(lr=0.01)\n",
        "model.compile(loss='categorical_crossentropy', optimizer=optimizer, metrics=['accuracy'])"
      ],
      "execution_count": 0,
      "outputs": []
    },
    {
      "metadata": {
        "id": "fKDuSeEpd8Fr",
        "colab_type": "code",
        "colab": {
          "autoexec": {
            "startup": false,
            "wait_interval": 0
          }
        }
      },
      "cell_type": "code",
      "source": [
        "def multinomial_with_temperature(preds, temperature=1.0):\n",
        "    # helper function to sample an index from a probability array\n",
        "    preds = np.asarray(preds).astype('float64')\n",
        "    preds = np.log(preds + 1e-8) / temperature  \n",
        "    exp_preds = np.exp(preds)\n",
        "    preds = exp_preds / np.sum(exp_preds)\n",
        "    probas = np.random.multinomial(1, preds, 1)\n",
        "    return np.argmax(probas)\n",
        "\n",
        "\n",
        "def sample(model, char_to_indices, indices_to_char, \n",
        "           seed_string=\" \", temperature=1.0, test_length=150):\n",
        "    \"\"\"\n",
        "    Higher temperatures correspond to more potentially creative sentences (at the cost of mistakes)\n",
        "    \"\"\"\n",
        "    num_chars = len(char_to_indices.keys())\n",
        "    for i in range(test_length):\n",
        "        test_in = np.zeros((1, len(seed_string), num_chars))\n",
        "        for t, char in enumerate(seed_string):\n",
        "            test_in[0, t, char_to_indices[char]] = 1\n",
        "        entire_prediction = model.predict(test_in, verbose=0)[0]\n",
        "        next_index = multinomial_with_temperature(entire_prediction[-1], temperature)\n",
        "        next_char = indices_to_char[next_index]\n",
        "        seed_string = seed_string + next_char\n",
        "    return seed_string"
      ],
      "execution_count": 0,
      "outputs": []
    },
    {
      "metadata": {
        "id": "-GWjeLVYeBz3",
        "colab_type": "code",
        "colab": {
          "autoexec": {
            "startup": false,
            "wait_interval": 0
          },
          "base_uri": "https://localhost:8080/",
          "height": 357
        },
        "outputId": "1f577a7f-a426-43e0-982c-d071ca0df326",
        "executionInfo": {
          "status": "ok",
          "timestamp": 1527953005680,
          "user_tz": 420,
          "elapsed": 79803,
          "user": {
            "displayName": "Petr Simecek",
            "photoUrl": "//lh5.googleusercontent.com/-r1Qt6_Cbwro/AAAAAAAAAAI/AAAAAAAAFuY/MOrxngMHaR4/s50-c-k-no/photo.jpg",
            "userId": "110837892421237702285"
          }
        }
      },
      "cell_type": "code",
      "source": [
        "history = model.fit(X, y,\n",
        "            batch_size=1024,\n",
        "            epochs=10)"
      ],
      "execution_count": 33,
      "outputs": [
        {
          "output_type": "stream",
          "text": [
            "Epoch 1/10\n",
            "59842/59842 [==============================] - 9s 142us/step - loss: 2.7185 - acc: 0.2426\n",
            "Epoch 2/10\n",
            "59842/59842 [==============================] - 8s 133us/step - loss: 2.1525 - acc: 0.3674\n",
            "Epoch 3/10\n",
            "59842/59842 [==============================] - 8s 130us/step - loss: 1.9039 - acc: 0.4337\n",
            "Epoch 4/10\n",
            "59842/59842 [==============================] - 8s 129us/step - loss: 1.7324 - acc: 0.4819\n",
            "Epoch 5/10\n",
            "59842/59842 [==============================] - 8s 129us/step - loss: 1.6227 - acc: 0.5128\n",
            "Epoch 6/10\n",
            "18432/59842 [========>.....................] - ETA: 5s - loss: 1.5748 - acc: 0.5256"
          ],
          "name": "stdout"
        },
        {
          "output_type": "stream",
          "text": [
            "59842/59842 [==============================] - 8s 129us/step - loss: 1.5536 - acc: 0.5314\n",
            "Epoch 7/10\n",
            "59842/59842 [==============================] - 8s 129us/step - loss: 1.5068 - acc: 0.5440\n",
            "Epoch 8/10\n",
            "59842/59842 [==============================] - 8s 129us/step - loss: 1.4737 - acc: 0.5529\n",
            "Epoch 9/10\n",
            "59842/59842 [==============================] - 8s 129us/step - loss: 1.4490 - acc: 0.5593\n",
            "Epoch 10/10\n",
            "59842/59842 [==============================] - 8s 129us/step - loss: 1.4297 - acc: 0.5643\n"
          ],
          "name": "stdout"
        }
      ]
    },
    {
      "metadata": {
        "id": "UZnAKchWmigy",
        "colab_type": "code",
        "colab": {
          "autoexec": {
            "startup": false,
            "wait_interval": 0
          },
          "base_uri": "https://localhost:8080/",
          "height": 34
        },
        "outputId": "643802db-80d7-4bda-a47b-0490377c6c3f",
        "executionInfo": {
          "status": "ok",
          "timestamp": 1527953040454,
          "user_tz": 420,
          "elapsed": 7996,
          "user": {
            "displayName": "Petr Simecek",
            "photoUrl": "//lh5.googleusercontent.com/-r1Qt6_Cbwro/AAAAAAAAAAI/AAAAAAAAFuY/MOrxngMHaR4/s50-c-k-no/photo.jpg",
            "userId": "110837892421237702285"
          }
        }
      },
      "cell_type": "code",
      "source": [
        "sample(model, char_to_indices=char_to_indices, indices_to_char=indices_to_char, seed_string=\"truth\", temperature=0.8)"
      ],
      "execution_count": 34,
      "outputs": [
        {
          "output_type": "execute_result",
          "data": {
            "text/plain": [
              "'truth is a really one af the sympathy with its deperfection of his own rilers like the moral sembs, something of the german socrates and epines the break a'"
            ]
          },
          "metadata": {
            "tags": []
          },
          "execution_count": 34
        }
      ]
    },
    {
      "metadata": {
        "id": "hLMURFCF7ncu",
        "colab_type": "code",
        "colab": {
          "autoexec": {
            "startup": false,
            "wait_interval": 0
          }
        }
      },
      "cell_type": "code",
      "source": [
        "model_filename = 'nietzsche.loss{0:.2f}.h5'.format(history.history['loss'][-1])\n",
        "model.save(model_filename)\n",
        "files.download(model_filename)"
      ],
      "execution_count": 0,
      "outputs": []
    }
  ]
}
