{
  "nbformat": 4,
  "nbformat_minor": 0,
  "metadata": {
    "colab": {
      "name": "03-Simpsons.ipynb",
      "version": "0.3.2",
      "views": {},
      "default_view": {},
      "provenance": [
        {
          "file_id": "1bwy5NFtwCvN7rhZeBCLoC83LPkIYm7-F",
          "timestamp": 1527074601426
        }
      ],
      "collapsed_sections": []
    },
    "kernelspec": {
      "name": "python3",
      "display_name": "Python 3"
    },
    "accelerator": "GPU"
  },
  "cells": [
    {
      "metadata": {
        "id": "tBPeK88qPvIs",
        "colab_type": "text"
      },
      "cell_type": "markdown",
      "source": [
        "# The Simpsons characters"
      ]
    },
    {
      "metadata": {
        "id": "s27SaCxuvEeK",
        "colab_type": "text"
      },
      "cell_type": "markdown",
      "source": [
        "## Download the data"
      ]
    },
    {
      "metadata": {
        "id": "gAj6nDQ1Bnlf",
        "colab_type": "code",
        "colab": {
          "autoexec": {
            "startup": false,
            "wait_interval": 0
          },
          "base_uri": "https://localhost:8080/",
          "height": 309
        },
        "outputId": "bbcea24e-c80b-4052-d8f8-47ef16adb97c",
        "executionInfo": {
          "status": "ok",
          "timestamp": 1527936233509,
          "user_tz": -120,
          "elapsed": 24550,
          "user": {
            "displayName": "Karla Fejfarová",
            "photoUrl": "//lh4.googleusercontent.com/-qD9ZSIcwVJw/AAAAAAAAAAI/AAAAAAAAI34/zYVbRD3LUe8/s50-c-k-no/photo.jpg",
            "userId": "114647621516275568614"
          }
        }
      },
      "cell_type": "code",
      "source": [
        "!mkdir data\n",
        "!wget https://www.dropbox.com/s/7mc0xzbtkl0ppwx/simpsons.zip -P ./data/\n",
        "!unzip ./data/simpsons.zip -d ./data > /dev/null"
      ],
      "execution_count": 1,
      "outputs": [
        {
          "output_type": "stream",
          "text": [
            "--2018-06-02 10:43:31--  https://www.dropbox.com/s/7mc0xzbtkl0ppwx/simpsons.zip\n",
            "Resolving www.dropbox.com (www.dropbox.com)... 162.125.65.1, 2620:100:6021:1::a27d:4101\n",
            "Connecting to www.dropbox.com (www.dropbox.com)|162.125.65.1|:443... connected.\n",
            "HTTP request sent, awaiting response... 302 Found\n",
            "Location: https://dl.dropboxusercontent.com/content_link/IdU29T5mdgitrIIeDQed2SsC6pGoYP7DvnxCnqP6cMdnibtiA9NmNoN8qbvi8A1p/file [following]\n",
            "--2018-06-02 10:43:31--  https://dl.dropboxusercontent.com/content_link/IdU29T5mdgitrIIeDQed2SsC6pGoYP7DvnxCnqP6cMdnibtiA9NmNoN8qbvi8A1p/file\n",
            "Resolving dl.dropboxusercontent.com (dl.dropboxusercontent.com)... 162.125.65.6, 2620:100:6021:6::a27d:4106\n",
            "Connecting to dl.dropboxusercontent.com (dl.dropboxusercontent.com)|162.125.65.6|:443... connected.\n",
            "HTTP request sent, awaiting response... 200 OK\n",
            "Length: 420348254 (401M) [application/zip]\n",
            "Saving to: ‘./data/simpsons.zip’\n",
            "\n",
            "simpsons.zip        100%[===================>] 400.88M  33.5MB/s    in 12s     \n",
            "\n",
            "2018-06-02 10:43:45 (32.6 MB/s) - ‘./data/simpsons.zip’ saved [420348254/420348254]\n",
            "\n"
          ],
          "name": "stdout"
        }
      ]
    },
    {
      "metadata": {
        "id": "OeoHv-VlDbOK",
        "colab_type": "code",
        "colab": {
          "autoexec": {
            "startup": false,
            "wait_interval": 0
          }
        }
      },
      "cell_type": "code",
      "source": [
        "!rm ./data/simpsons.zip"
      ],
      "execution_count": 0,
      "outputs": []
    },
    {
      "metadata": {
        "id": "cIQmmnA_vNLa",
        "colab_type": "text"
      },
      "cell_type": "markdown",
      "source": [
        "Subset of the [Simpsons character Dataset](https://www.kaggle.com/alexattia/the-simpsons-characters-dataset)  \n",
        "\n",
        "There are about 1000 images in each class, split between the train and validation datasets in the 85:15 ratio.\n",
        "\n",
        "![alt text](http://crysa.fzu.cz/karla/dl_img/simpsons.png)"
      ]
    },
    {
      "metadata": {
        "id": "EX_QJ97d3vu0",
        "colab_type": "text"
      },
      "cell_type": "markdown",
      "source": [
        "## Load libraries"
      ]
    },
    {
      "metadata": {
        "id": "48SwLIxSIZ8B",
        "colab_type": "code",
        "colab": {
          "autoexec": {
            "startup": false,
            "wait_interval": 0
          }
        }
      },
      "cell_type": "code",
      "source": [
        "import matplotlib.pyplot as plt\n",
        "from pathlib import Path\n",
        "import cv2\n",
        "import numpy as np\n",
        "from matplotlib import patches, patheffects\n",
        "import matplotlib\n",
        "from google.colab import files"
      ],
      "execution_count": 0,
      "outputs": []
    },
    {
      "metadata": {
        "id": "0oC3QPUFAAau",
        "colab_type": "code",
        "colab": {
          "autoexec": {
            "startup": false,
            "wait_interval": 0
          },
          "base_uri": "https://localhost:8080/",
          "height": 34
        },
        "outputId": "28c44c9f-9ee2-4e8e-bfbb-5bb74540acb6",
        "executionInfo": {
          "status": "ok",
          "timestamp": 1527936249741,
          "user_tz": -120,
          "elapsed": 8421,
          "user": {
            "displayName": "Karla Fejfarová",
            "photoUrl": "//lh4.googleusercontent.com/-qD9ZSIcwVJw/AAAAAAAAAAI/AAAAAAAAI34/zYVbRD3LUe8/s50-c-k-no/photo.jpg",
            "userId": "114647621516275568614"
          }
        }
      },
      "cell_type": "code",
      "source": [
        "from keras import backend as K\n",
        "from keras.models import Model\n",
        "from keras.layers import Flatten, Dense, GlobalAveragePooling2D, Dropout\n",
        "from keras.preprocessing.image import ImageDataGenerator, array_to_img, img_to_array, load_img\n",
        "from keras.applications.vgg16 import VGG16, preprocess_input\n",
        "from keras.optimizers import Adam, SGD"
      ],
      "execution_count": 3,
      "outputs": [
        {
          "output_type": "stream",
          "text": [
            "Using TensorFlow backend.\n"
          ],
          "name": "stderr"
        }
      ]
    },
    {
      "metadata": {
        "id": "Xpvil2GJIh_M",
        "colab_type": "code",
        "colab": {
          "autoexec": {
            "startup": false,
            "wait_interval": 0
          }
        }
      },
      "cell_type": "code",
      "source": [
        "def show_img(im, figsize=None, ax=None):\n",
        "    if not ax: fig,ax = plt.subplots(figsize=figsize)\n",
        "    ax.imshow(im)\n",
        "    ax.get_xaxis().set_visible(False)\n",
        "    ax.get_yaxis().set_visible(False)\n",
        "    return ax\n",
        "  \n",
        "def draw_outline(o, lw):\n",
        "    o.set_path_effects([patheffects.Stroke(\n",
        "        linewidth=lw, foreground='black'), patheffects.Normal()])\n",
        "  \n",
        "def draw_text(ax, xy, txt, sz=14):\n",
        "    text = ax.text(*xy, txt,\n",
        "           verticalalignment='top', color='white', fontsize=sz, weight='bold')\n",
        "    draw_outline(text, 1)"
      ],
      "execution_count": 0,
      "outputs": []
    },
    {
      "metadata": {
        "id": "jcsVZQNt_k4q",
        "colab_type": "code",
        "colab": {
          "autoexec": {
            "startup": false,
            "wait_interval": 0
          }
        }
      },
      "cell_type": "code",
      "source": [
        "map_characters = {0: 'abraham_grampa_simpson', 1: 'apu_nahasapeemapetilon', 2: 'bart_simpson', \n",
        "        3: 'charles_montgomery_burns', 4: 'chief_wiggum', 5: 'comic_book_guy', 6: 'edna_krabappel', \n",
        "        7: 'homer_simpson', 8: 'kent_brockman', 9: 'krusty_the_clown', 10: 'lisa_simpson', \n",
        "        11: 'marge_simpson', 12: 'milhouse_van_houten', 13: 'moe_szyslak', \n",
        "        14: 'ned_flanders', 15: 'principal_skinner', 16: 'sideshow_bob'}\n",
        "\n",
        "SZ = 150\n",
        "BS = 64\n",
        "num_classes = len(map_characters)"
      ],
      "execution_count": 0,
      "outputs": []
    },
    {
      "metadata": {
        "id": "5Mzp-0X9ZkAl",
        "colab_type": "text"
      },
      "cell_type": "markdown",
      "source": [
        "## Transfer learning"
      ]
    },
    {
      "metadata": {
        "id": "lFT1sRJJQfUh",
        "colab_type": "text"
      },
      "cell_type": "markdown",
      "source": [
        "Try to train your Simpsons characters classifier on top of of VGG 16.\n",
        "\n",
        "**Hints: **  \n",
        "We have 16 different characters, so instead of binary_crossentropy and sigmoid, we are going to use categorical_crossentropy ad softmax.  \n",
        "The dataset is small, so data augumentation may help."
      ]
    },
    {
      "metadata": {
        "id": "SQlBoeIDZysh",
        "colab_type": "code",
        "colab": {
          "autoexec": {
            "startup": false,
            "wait_interval": 0
          },
          "base_uri": "https://localhost:8080/",
          "height": 71
        },
        "outputId": "23901910-23d8-4099-dc4f-aa1c6cfc088d",
        "executionInfo": {
          "status": "ok",
          "timestamp": 1527936261627,
          "user_tz": -120,
          "elapsed": 9317,
          "user": {
            "displayName": "Karla Fejfarová",
            "photoUrl": "//lh4.googleusercontent.com/-qD9ZSIcwVJw/AAAAAAAAAAI/AAAAAAAAI34/zYVbRD3LUe8/s50-c-k-no/photo.jpg",
            "userId": "114647621516275568614"
          }
        }
      },
      "cell_type": "code",
      "source": [
        "base_model = # your code here"
      ],
      "execution_count": 6,
      "outputs": [
        {
          "output_type": "stream",
          "text": [
            "Downloading data from https://github.com/fchollet/deep-learning-models/releases/download/v0.1/vgg16_weights_tf_dim_ordering_tf_kernels_notop.h5\n",
            "58892288/58889256 [==============================] - 7s 0us/step\n"
          ],
          "name": "stdout"
        }
      ]
    },
    {
      "metadata": {
        "id": "KR5zeX-Ra-bL",
        "colab_type": "code",
        "colab": {
          "autoexec": {
            "startup": false,
            "wait_interval": 0
          }
        }
      },
      "cell_type": "code",
      "source": [
        "x = base_model.output\n",
        "x = GlobalAveragePooling2D()(x) \n",
        "x = Dense(1024, activation = 'relu')(x) # black magic, trial and error :-)\n",
        "x = Dropout(0.2)(x)\n",
        "predictions = # your code here\n",
        "model = # your code here"
      ],
      "execution_count": 0,
      "outputs": []
    },
    {
      "metadata": {
        "id": "dnY_0AkEZnMk",
        "colab_type": "text"
      },
      "cell_type": "markdown",
      "source": [
        "Make sure to train only the newly added layers and compile the model:"
      ]
    },
    {
      "metadata": {
        "id": "4dSxW9cSbOZB",
        "colab_type": "code",
        "colab": {
          "autoexec": {
            "startup": false,
            "wait_interval": 0
          }
        }
      },
      "cell_type": "code",
      "source": [
        "# your code here"
      ],
      "execution_count": 0,
      "outputs": []
    },
    {
      "metadata": {
        "id": "vcCBVTuiY873",
        "colab_type": "code",
        "colab": {
          "autoexec": {
            "startup": false,
            "wait_interval": 0
          }
        }
      },
      "cell_type": "code",
      "source": [
        "train_datagen =  ImageDataGenerator(\n",
        "    preprocessing_function=preprocess_input,\n",
        "    rotation_range=35,  \n",
        "    width_shift_range=0.1,  \n",
        "    height_shift_range=0.1, \n",
        "    horizontal_flip=True, \n",
        "    shear_range=0.1\n",
        ")\n",
        "\n",
        "test_datagen = ImageDataGenerator(\n",
        "    preprocessing_function=preprocess_input,\n",
        ")\n"
      ],
      "execution_count": 0,
      "outputs": []
    },
    {
      "metadata": {
        "id": "kMUjGB3-pRQZ",
        "colab_type": "code",
        "colab": {
          "autoexec": {
            "startup": false,
            "wait_interval": 0
          },
          "base_uri": "https://localhost:8080/",
          "height": 51
        },
        "outputId": "08fe415e-fc2b-44e5-a497-b8f30facb3c2",
        "executionInfo": {
          "status": "ok",
          "timestamp": 1527937043344,
          "user_tz": -120,
          "elapsed": 3096,
          "user": {
            "displayName": "Karla Fejfarová",
            "photoUrl": "//lh4.googleusercontent.com/-qD9ZSIcwVJw/AAAAAAAAAAI/AAAAAAAAI34/zYVbRD3LUe8/s50-c-k-no/photo.jpg",
            "userId": "114647621516275568614"
          }
        }
      },
      "cell_type": "code",
      "source": [
        "train_generator = \n",
        "\n",
        "validation_generator = "
      ],
      "execution_count": 19,
      "outputs": [
        {
          "output_type": "stream",
          "text": [
            "Found 14012 images belonging to 17 classes.\n",
            "Found 2474 images belonging to 17 classes.\n"
          ],
          "name": "stdout"
        }
      ]
    },
    {
      "metadata": {
        "id": "ZlQGmhlCTf0e",
        "colab_type": "text"
      },
      "cell_type": "markdown",
      "source": [
        "Train your classifier and save its output to a variable.  Tou may need more epochs than 3.\n",
        "Don't be scared by lower accuracy! We have 17 categories instead of 2. Totally random classifier would have accuracy about 6 %."
      ]
    },
    {
      "metadata": {
        "id": "Okg1aN3KgDNU",
        "colab_type": "code",
        "colab": {
          "autoexec": {
            "startup": false,
            "wait_interval": 0
          }
        }
      },
      "cell_type": "code",
      "source": [
        "%%time\n",
        "history = model.fit_generator # your code here"
      ],
      "execution_count": 0,
      "outputs": []
    },
    {
      "metadata": {
        "id": "F4odftEnZ8bM",
        "colab_type": "text"
      },
      "cell_type": "markdown",
      "source": [
        "Plot the model accuracy during the training"
      ]
    },
    {
      "metadata": {
        "id": "ez5hLYylFMbJ",
        "colab_type": "code",
        "colab": {
          "autoexec": {
            "startup": false,
            "wait_interval": 0
          },
          "base_uri": "https://localhost:8080/",
          "height": 34
        },
        "outputId": "5d51b254-259e-4576-fe38-d9154b191230",
        "executionInfo": {
          "status": "ok",
          "timestamp": 1527248385829,
          "user_tz": -120,
          "elapsed": 1352,
          "user": {
            "displayName": "Karla Fejfarová",
            "photoUrl": "//lh4.googleusercontent.com/-qD9ZSIcwVJw/AAAAAAAAAAI/AAAAAAAAI34/zYVbRD3LUe8/s50-c-k-no/photo.jpg",
            "userId": "114647621516275568614"
          }
        }
      },
      "cell_type": "code",
      "source": [
        "# print(history.history.keys())"
      ],
      "execution_count": 28,
      "outputs": [
        {
          "output_type": "stream",
          "text": [
            "dict_keys(['val_loss', 'val_acc', 'loss', 'acc'])\n"
          ],
          "name": "stdout"
        }
      ]
    },
    {
      "metadata": {
        "id": "GrGzqqV2GQcX",
        "colab_type": "code",
        "colab": {
          "autoexec": {
            "startup": false,
            "wait_interval": 0
          },
          "base_uri": "https://localhost:8080/",
          "height": 457
        },
        "outputId": "3ec61d99-79b7-408f-bcc7-996bf29b7e17",
        "executionInfo": {
          "status": "ok",
          "timestamp": 1527940977553,
          "user_tz": -120,
          "elapsed": 968,
          "user": {
            "displayName": "Karla Fejfarová",
            "photoUrl": "//lh4.googleusercontent.com/-qD9ZSIcwVJw/AAAAAAAAAAI/AAAAAAAAI34/zYVbRD3LUe8/s50-c-k-no/photo.jpg",
            "userId": "114647621516275568614"
          }
        }
      },
      "cell_type": "code",
      "source": [
        "plt.figure(figsize=(10, 7))\n",
        "plt.plot(history.history['acc'])\n",
        "plt.plot(history.history['val_acc']) \n",
        "plt.title('model accuracy')\n",
        "plt.ylabel('accuracy')\n",
        "plt.xlabel('epoch')\n",
        "plt.legend(['train', 'test'])\n",
        "plt.show()"
      ],
      "execution_count": 56,
      "outputs": [
        {
          "output_type": "display_data",
          "data": {
            "image/png": "[encoded data removed]",
            "text/plain": [
              "<matplotlib.figure.Figure at 0x7fc3692ae4e0>"
            ]
          },
          "metadata": {
            "tags": []
          }
        }
      ]
    },
    {
      "metadata": {
        "id": "7uxD_nEy8c2K",
        "colab_type": "text"
      },
      "cell_type": "markdown",
      "source": [
        "## Check predictions for the validation set"
      ]
    },
    {
      "metadata": {
        "id": "NWUaHQ9e8ihZ",
        "colab_type": "code",
        "colab": {
          "autoexec": {
            "startup": false,
            "wait_interval": 0
          }
        }
      },
      "cell_type": "code",
      "source": [
        "y_true = "
      ],
      "execution_count": 0,
      "outputs": []
    },
    {
      "metadata": {
        "id": "jlHQveujCJIq",
        "colab_type": "code",
        "colab": {
          "autoexec": {
            "startup": false,
            "wait_interval": 0
          }
        }
      },
      "cell_type": "code",
      "source": [
        "preds = "
      ],
      "execution_count": 0,
      "outputs": []
    },
    {
      "metadata": {
        "id": "npG6n0PjSOKA",
        "colab_type": "code",
        "colab": {
          "autoexec": {
            "startup": false,
            "wait_interval": 0
          }
        }
      },
      "cell_type": "code",
      "source": [
        "y_pred = np.argmax(preds, axis=1) # we are looking for a class with maximum score"
      ],
      "execution_count": 0,
      "outputs": []
    },
    {
      "metadata": {
        "id": "-zp28SoYFQwO",
        "colab_type": "code",
        "colab": {
          "autoexec": {
            "startup": false,
            "wait_interval": 0
          }
        }
      },
      "cell_type": "code",
      "source": [
        "from sklearn.metrics import confusion_matrix\n",
        "import itertools"
      ],
      "execution_count": 0,
      "outputs": []
    },
    {
      "metadata": {
        "id": "cWbmoB84NYvc",
        "colab_type": "code",
        "colab": {
          "autoexec": {
            "startup": false,
            "wait_interval": 0
          }
        }
      },
      "cell_type": "code",
      "source": [
        "def plot_confusion_matrix(cm, classes, normalize=False, title='Confusion matrix', cmap=plt.cm.Blues):\n",
        "    \"\"\"\n",
        "    This function prints and plots the confusion matrix.\n",
        "    Normalization can be applied by setting `normalize=True`.\n",
        "    (This function is copied from the scikit docs.)\n",
        "    \"\"\"\n",
        "    plt.figure(figsize=(12, 12))\n",
        "    plt.imshow(cm, interpolation='nearest', cmap=cmap)\n",
        "    plt.title(title)\n",
        "    plt.colorbar()\n",
        "    tick_marks = np.arange(len(classes))\n",
        "    plt.xticks(tick_marks, classes, rotation=90)\n",
        "    plt.yticks(tick_marks, classes)\n",
        "\n",
        "    if normalize:\n",
        "        cm = cm.astype('float') / cm.sum(axis=1)[:, np.newaxis]\n",
        "    print(cm)\n",
        "    thresh = cm.max() / 2.\n",
        "    for i, j in itertools.product(range(cm.shape[0]), range(cm.shape[1])):\n",
        "        plt.text(j, i, cm[i, j], horizontalalignment=\"center\", \n",
        "                 color=\"white\" if cm[i, j] > thresh else \"black\")\n",
        "\n",
        "    plt.tight_layout()\n",
        "    plt.ylabel('True label')\n",
        "    plt.xlabel('Predicted label')\n"
      ],
      "execution_count": 0,
      "outputs": []
    },
    {
      "metadata": {
        "id": "1Zx7BfmEavoZ",
        "colab_type": "text"
      },
      "cell_type": "markdown",
      "source": [
        "Try to plot confusion matrix and check which characters are missclassified most often."
      ]
    },
    {
      "metadata": {
        "id": "A255uqH4HMZj",
        "colab_type": "code",
        "colab": {
          "autoexec": {
            "startup": false,
            "wait_interval": 0
          }
        }
      },
      "cell_type": "code",
      "source": [
        "# your code here\n"
      ],
      "execution_count": 0,
      "outputs": []
    },
    {
      "metadata": {
        "id": "evWr9DD2W7T_",
        "colab_type": "text"
      },
      "cell_type": "markdown",
      "source": [
        "Plot some corectly and incorrectly classified images."
      ]
    },
    {
      "metadata": {
        "id": "YIe1AwOkcrAH",
        "colab_type": "code",
        "colab": {
          "autoexec": {
            "startup": false,
            "wait_interval": 0
          }
        }
      },
      "cell_type": "code",
      "source": [
        "# your code here"
      ],
      "execution_count": 0,
      "outputs": []
    }
  ]
}